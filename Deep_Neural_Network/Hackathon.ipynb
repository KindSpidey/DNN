{
  "nbformat": 4,
  "nbformat_minor": 0,
  "metadata": {
    "colab": {
      "name": "Hackathon.ipynb",
      "provenance": []
    },
    "kernelspec": {
      "name": "python3",
      "display_name": "Python 3"
    },
    "accelerator": "GPU"
  },
  "cells": [
    {
      "cell_type": "code",
      "metadata": {
        "id": "hcGVZ0tNh457",
        "colab_type": "code",
        "colab": {
          "base_uri": "https://localhost:8080/",
          "height": 35
        },
        "outputId": "26d945c1-704c-48d9-9288-a7ff4572d06e"
      },
      "source": [
        "import numpy as np\n",
        "import matplotlib.pyplot as plt\n",
        "from keras.models import *\n",
        "from keras.layers import *\n",
        "from keras.optimizers import *\n",
        "from keras.callbacks import * \n",
        "from keras.utils import to_categorical\n",
        "import pandas as pd\n",
        "from google.colab import drive\n",
        "from tqdm import tqdm\n"
      ],
      "execution_count": 3,
      "outputs": [
        {
          "output_type": "stream",
          "text": [
            "Using TensorFlow backend.\n"
          ],
          "name": "stderr"
        }
      ]
    },
    {
      "cell_type": "code",
      "metadata": {
        "id": "pcfQSiJsd4ao",
        "colab_type": "code",
        "colab": {
          "base_uri": "https://localhost:8080/",
          "height": 128
        },
        "outputId": "d0f729cb-85f7-40a7-e241-0dac7f58bc68"
      },
      "source": [
        "drive.mount('/content/drive')"
      ],
      "execution_count": 4,
      "outputs": [
        {
          "output_type": "stream",
          "text": [
            "Go to this URL in a browser: https://accounts.google.com/o/oauth2/auth?client_id=947318989803-6bn6qk8qdgf4n4g3pfee6491hc0brc4i.apps.googleusercontent.com&redirect_uri=urn%3Aietf%3Awg%3Aoauth%3A2.0%3Aoob&scope=email%20https%3A%2F%2Fwww.googleapis.com%2Fauth%2Fdocs.test%20https%3A%2F%2Fwww.googleapis.com%2Fauth%2Fdrive%20https%3A%2F%2Fwww.googleapis.com%2Fauth%2Fdrive.photos.readonly%20https%3A%2F%2Fwww.googleapis.com%2Fauth%2Fpeopleapi.readonly&response_type=code\n",
            "\n",
            "Enter your authorization code:\n",
            "··········\n",
            "Mounted at /content/drive\n"
          ],
          "name": "stdout"
        }
      ]
    },
    {
      "cell_type": "code",
      "metadata": {
        "id": "CrNr1JV-bugh",
        "colab_type": "code",
        "colab": {}
      },
      "source": [
        "class Record():\n",
        "    def __init__(self,\n",
        "                 subs_id, month,\n",
        "                 SMS_in_CNT, SMS_out_CNT,\n",
        "                 calls_in_CNT, calls_out_CNT,\n",
        "                 duration_in_min, duration_out_min,\n",
        "                 data_traffic_MB, sim_LTE,\n",
        "                 tariff_id, support_3G,\n",
        "                 support_4G, subs_home_region,\n",
        "                 charge, recharge,\n",
        "                 recharge_CNT, life_time,\n",
        "                 MNP_out\n",
        "                ):\n",
        "\n",
        "        self.subs_id = subs_id\n",
        "        self.date = month\n",
        "        self.SMS_in_CNT = SMS_in_CNT\n",
        "        self.SMS_out_CNT = SMS_out_CNT\n",
        "        self.calls_in_CNT = calls_in_CNT\n",
        "        self.calls_out_CNT = calls_out_CNT\n",
        "        self.duration_in_min = duration_in_min\n",
        "        self.duration_out_min = duration_out_min\n",
        "        self.data_traffic_MB = data_traffic_MB\n",
        "        self.sim_LTE = sim_LTE\n",
        "        self.tariff_id = tariff_id\n",
        "        self.support_3G = support_3G\n",
        "        self.support_4G = support_4G\n",
        "        self.subs_home_region = subs_home_region\n",
        "        self.charge = charge\n",
        "        self.recharge = recharge\n",
        "        self.recharge_CNT = recharge_CNT\n",
        "        self.life_time = life_time\n",
        "        self.MNP_out = MNP_out"
      ],
      "execution_count": 0,
      "outputs": []
    },
    {
      "cell_type": "code",
      "metadata": {
        "id": "iXXJkR9Yb_gR",
        "colab_type": "code",
        "colab": {}
      },
      "source": [
        "def get_records(path):\n",
        "    csv_file = pd.read_csv(path, delimiter=',')\n",
        "    records = {}\n",
        "    for c in tqdm(range(len(csv_file))):\n",
        "        rec = Record(csv_file.at[c, 'SUBS_ID'], csv_file.at[c, 'Month'],\n",
        "                     csv_file.at[c, 'SMS_IN_CNT'], csv_file.at[c, 'SMS_OUT_CNT'],\n",
        "                     csv_file.at[c, 'CALLS_IN_CNT'], csv_file.at[c, 'CALLS_OUT_CNT'],\n",
        "                     csv_file.at[c, 'DURATION_IN_MIN'], csv_file.at[c, 'DURATION_OUT_MIN'],\n",
        "                     csv_file.at[c, 'DATA_TRAFFIC_MB'], csv_file.at[c, 'SIM_LTE'],\n",
        "                     csv_file.at[c, 'TARIFF_ID'], csv_file.at[c, 'SUPPORT_3G'],\n",
        "                     csv_file.at[c, 'SUPPORT_4G'], csv_file.at[c, 'SUBS_HOME_REGION_ID'],\n",
        "                     csv_file.at[c, 'CHARGE'], csv_file.at[c, 'RECHARGE'],\n",
        "                     csv_file.at[c, 'RECHARGE_CNT'], csv_file.at[c, 'LIFE_TIME'],\n",
        "                     csv_file.at[c, 'MNP_OUT'])\n",
        "\n",
        "        test_rec = []\n",
        "        if rec.subs_id in records:\n",
        "            test_rec = records[rec.subs_id]\n",
        "        test_rec.append(rec)\n",
        "        records[rec.subs_id] = test_rec\n",
        "    return records"
      ],
      "execution_count": 0,
      "outputs": []
    },
    {
      "cell_type": "code",
      "metadata": {
        "id": "IileSb3WdX04",
        "colab_type": "code",
        "colab": {
          "base_uri": "https://localhost:8080/",
          "height": 35
        },
        "outputId": "cb2e8452-78e0-45d4-c53c-acc18c67c41b"
      },
      "source": [
        "records = get_records('drive/My Drive/train.csv')"
      ],
      "execution_count": 7,
      "outputs": [
        {
          "output_type": "stream",
          "text": [
            "100%|██████████| 299639/299639 [00:34<00:00, 8803.52it/s]\n"
          ],
          "name": "stderr"
        }
      ]
    },
    {
      "cell_type": "code",
      "metadata": {
        "id": "VU8VlukV9Uv1",
        "colab_type": "code",
        "colab": {
          "base_uri": "https://localhost:8080/",
          "height": 35
        },
        "outputId": "e4e2a39c-2aa5-40e7-cc43-a82c02a3f2e0"
      },
      "source": [
        "type(records[35243][2].sim_LTE)"
      ],
      "execution_count": 8,
      "outputs": [
        {
          "output_type": "execute_result",
          "data": {
            "text/plain": [
              "numpy.float64"
            ]
          },
          "metadata": {
            "tags": []
          },
          "execution_count": 8
        }
      ]
    },
    {
      "cell_type": "code",
      "metadata": {
        "id": "MnUsdxLVfe0I",
        "colab_type": "code",
        "colab": {}
      },
      "source": [
        "def get_stay_left(ids):\n",
        "    stay_ids=[]\n",
        "    left_ids=[]\n",
        "    fuck = 0\n",
        "    for id_ in ids:\n",
        "        for s in records[id_]:\n",
        "            if np.isnan(s.sim_LTE): \n",
        "                #print('fuck')\n",
        "                fuck+=1\n",
        "                continue\n",
        "            \n",
        "            if s.MNP_out == 0:\n",
        "                stay_ids.append(id_)\n",
        "            else: left_ids.append(id_)\n",
        "    print(fuck)\n",
        "    return list(set(stay_ids)), list(set(left_ids))"
      ],
      "execution_count": 0,
      "outputs": []
    },
    {
      "cell_type": "code",
      "metadata": {
        "id": "CUn6BQ7DRlmp",
        "colab_type": "code",
        "colab": {
          "base_uri": "https://localhost:8080/",
          "height": 35
        },
        "outputId": "765984b7-dd8b-4d33-ba39-337cc0dbeaf8"
      },
      "source": [
        "stay_ids, left_ids = get_stay_left([i for i in records])"
      ],
      "execution_count": 10,
      "outputs": [
        {
          "output_type": "stream",
          "text": [
            "412\n"
          ],
          "name": "stdout"
        }
      ]
    },
    {
      "cell_type": "code",
      "metadata": {
        "id": "Q-5pXrJaS7Jp",
        "colab_type": "code",
        "colab": {
          "base_uri": "https://localhost:8080/",
          "height": 35
        },
        "outputId": "17ece36f-fc0a-4f1f-ccec-c7bc5e76bbd8"
      },
      "source": [
        "print((len(stay_ids),len(left_ids)))"
      ],
      "execution_count": 11,
      "outputs": [
        {
          "output_type": "stream",
          "text": [
            "(96187, 259)\n"
          ],
          "name": "stdout"
        }
      ]
    },
    {
      "cell_type": "code",
      "metadata": {
        "id": "CSPK-Bgittzq",
        "colab_type": "code",
        "colab": {}
      },
      "source": [
        "def gen_rand(begin, end, count):\n",
        "    result = []\n",
        "    while len(result) < count:\n",
        "        rand = np.random.randint(begin, end)\n",
        "        if not result.__contains__(rand):\n",
        "            result.append(rand)\n",
        "    return result"
      ],
      "execution_count": 0,
      "outputs": []
    },
    {
      "cell_type": "code",
      "metadata": {
        "id": "LHvlSmgaTjQ7",
        "colab_type": "code",
        "colab": {}
      },
      "source": [
        "stay_ind = gen_rand(0,len(stay_ids),len(left_ids)//10*10)\n",
        "left_ind = gen_rand(0,len(left_ids),len(left_ids)//10*10)\n",
        "\n",
        "tli = gen_rand(0,len(left_ids)//10*10, len(left_ids)//10*9)\n",
        "train_left_ind = [left_ind[i] for i in tli]\n",
        "valid_left_ind = np.delete(left_ind,tli,0)\n",
        "\n",
        "tsi = gen_rand(0,len(left_ids)//10*10, len(left_ids)//10*9)\n",
        "train_stay_ind = [stay_ind[i] for i in tsi]\n",
        "valid_stay_ind = np.delete(stay_ind,tsi,0)"
      ],
      "execution_count": 0,
      "outputs": []
    },
    {
      "cell_type": "code",
      "metadata": {
        "id": "7Z-uCuvGkUzi",
        "colab_type": "code",
        "colab": {
          "base_uri": "https://localhost:8080/",
          "height": 35
        },
        "outputId": "d2c6f4b4-2d14-4023-cb2d-29c5a442b545"
      },
      "source": [
        "print((len(train_left_ind),len(train_stay_ind),len(valid_left_ind),len(valid_stay_ind)))"
      ],
      "execution_count": 204,
      "outputs": [
        {
          "output_type": "stream",
          "text": [
            "(225, 225, 25, 25)\n"
          ],
          "name": "stdout"
        }
      ]
    },
    {
      "cell_type": "code",
      "metadata": {
        "id": "TAAuWctNvFZU",
        "colab_type": "code",
        "colab": {}
      },
      "source": [
        "train_stay_ids = np.array([stay_ids[i] for i in train_stay_ind])\n",
        "train_left_ids = np.array([left_ids[i] for i in train_left_ind])\n",
        "train_x_ids = np.concatenate((train_stay_ids, train_left_ids),0)\n",
        "# train_y = np.concatenate((np.zeros_like(train_stay_ids), np.ones_like(train_left_ids)),0)\n",
        "# np.random.seed(42)\n",
        "np.random.shuffle(train_x_ids)\n",
        "# np.random.shuffle(train_y_ids)\n",
        "\n",
        "valid_stay_ids = np.array([stay_ids[i] for i in valid_stay_ind])\n",
        "valid_left_ids = np.array([left_ids[i] for i in valid_left_ind])\n",
        "test_x_ids = np.concatenate((valid_stay_ids, valid_left_ids),0)\n",
        "# test_y = np.concatenate((np.zeros_like(valid_stay_ids), np.ones_like(valid_left_ids)),0)\n",
        "# np.random.seed(42)\n",
        "np.random.shuffle(test_x_ids)\n",
        "# np.random.shuffle(test_y_ids)\n"
      ],
      "execution_count": 0,
      "outputs": []
    },
    {
      "cell_type": "code",
      "metadata": {
        "id": "WREtpc_evwk9",
        "colab_type": "code",
        "colab": {
          "base_uri": "https://localhost:8080/",
          "height": 35
        },
        "outputId": "76e4332d-b35a-4066-c867-641cdced58ce"
      },
      "source": [
        "sh = (train_x_ids.shape[0], test_x_ids.shape[0])\n",
        "# sh = (train_x_ids.shape[0], train_y.shape[0], test_x_ids.shape[0], test_y.shape[0])\n",
        "print(sh)"
      ],
      "execution_count": 206,
      "outputs": [
        {
          "output_type": "stream",
          "text": [
            "(450, 50)\n"
          ],
          "name": "stdout"
        }
      ]
    },
    {
      "cell_type": "code",
      "metadata": {
        "id": "SFeJRTJu7cb4",
        "colab_type": "code",
        "colab": {
          "base_uri": "https://localhost:8080/",
          "height": 35
        },
        "outputId": "2a42f909-a370-450f-a61d-7315c29a7dc7"
      },
      "source": [
        "all_ids = np.concatenate((train_x_ids, test_x_ids),0)\n",
        "all_ids.shape"
      ],
      "execution_count": 207,
      "outputs": [
        {
          "output_type": "execute_result",
          "data": {
            "text/plain": [
              "(500,)"
            ]
          },
          "metadata": {
            "tags": []
          },
          "execution_count": 207
        }
      ]
    },
    {
      "cell_type": "code",
      "metadata": {
        "id": "_gIpk0OopDui",
        "colab_type": "code",
        "colab": {}
      },
      "source": [
        "def prepare(arr):\n",
        "    def changed(arr): return 1 if len(set(arr)) > 1 else 0\n",
        "    \n",
        "    do_mean = [2,3,4,6,8,9,10]\n",
        "    # do_mean = []\n",
        "    do_max = [5,11,12,16,17]\n",
        "    do_changed = [13,18]\n",
        "    \n",
        "    new_arr = np.zeros((len(do_mean)+len(do_max)+len(do_changed)))\n",
        "    label = arr[0].MNP_out\n",
        "    \n",
        "    a_vals = []\n",
        "    \n",
        "    for s in arr:\n",
        "        if np.isnan(s.sim_LTE): continue\n",
        "        attrs = [a for a in dir(s) if not a.startswith('__')]\n",
        "        vals = [s.__dict__[attr] for attr in attrs]\n",
        "        # print(\"vals:\", vals)\n",
        "        a_vals.append(vals)\n",
        "    \n",
        "    a_vals = np.array(a_vals)\n",
        "    #print(a_vals)\n",
        "    \n",
        "    ind = 0\n",
        "    for i1 in do_mean:\n",
        "        new_arr[ind] = np.mean([float(e) for e in a_vals[:,i1]])\n",
        "        ind+=1\n",
        "        \n",
        "    for i2 in do_max:\n",
        "        new_arr[ind] = np.max([float(e) for e in a_vals[:,i2]])\n",
        "        ind+=1\n",
        "        \n",
        "    for i3 in do_changed:\n",
        "        new_arr[ind] = changed([float(e) for e in a_vals[:,i2]])\n",
        "        ind+=1\n",
        "    \n",
        "    #print(new_arr)\n",
        "    \n",
        "    return new_arr, label"
      ],
      "execution_count": 0,
      "outputs": []
    },
    {
      "cell_type": "code",
      "metadata": {
        "id": "-jNcuClD73Pw",
        "colab_type": "code",
        "colab": {}
      },
      "source": [
        "# data = np.array([prepare(records[i]) for i in all_ids])\n",
        "raw_data = np.array([prepare(records[i]) for i in all_ids])\n",
        "data, data_y = np.array([np.array(raw_data[i,0]) for i in range(len(raw_data[:,0]))]), raw_data[:,1]"
      ],
      "execution_count": 0,
      "outputs": []
    },
    {
      "cell_type": "code",
      "metadata": {
        "id": "4OnJKE_kFLQ7",
        "colab_type": "code",
        "colab": {
          "base_uri": "https://localhost:8080/",
          "height": 35
        },
        "outputId": "67cbe1b0-5a51-4bf2-9e38-ecbc98121c96"
      },
      "source": [
        "data.shape, data_y.shape"
      ],
      "execution_count": 210,
      "outputs": [
        {
          "output_type": "execute_result",
          "data": {
            "text/plain": [
              "((500, 14), (500,))"
            ]
          },
          "metadata": {
            "tags": []
          },
          "execution_count": 210
        }
      ]
    },
    {
      "cell_type": "code",
      "metadata": {
        "id": "CRaTDoUNdhqk",
        "colab_type": "code",
        "colab": {
          "base_uri": "https://localhost:8080/",
          "height": 363
        },
        "outputId": "87c62b9c-84d9-419f-c3e7-421dfdcdfbfe"
      },
      "source": [
        "attrs = [a for a in dir(records[1205][0]) if not a.startswith('__')]\n",
        "[(attrs[i],i) for i in range(len(attrs))]"
      ],
      "execution_count": 211,
      "outputs": [
        {
          "output_type": "execute_result",
          "data": {
            "text/plain": [
              "[('MNP_out', 0),\n",
              " ('SMS_in_CNT', 1),\n",
              " ('SMS_out_CNT', 2),\n",
              " ('calls_in_CNT', 3),\n",
              " ('calls_out_CNT', 4),\n",
              " ('charge', 5),\n",
              " ('data_traffic_MB', 6),\n",
              " ('date', 7),\n",
              " ('duration_in_min', 8),\n",
              " ('duration_out_min', 9),\n",
              " ('life_time', 10),\n",
              " ('recharge', 11),\n",
              " ('recharge_CNT', 12),\n",
              " ('sim_LTE', 13),\n",
              " ('subs_home_region', 14),\n",
              " ('subs_id', 15),\n",
              " ('support_3G', 16),\n",
              " ('support_4G', 17),\n",
              " ('tariff_id', 18)]"
            ]
          },
          "metadata": {
            "tags": []
          },
          "execution_count": 211
        }
      ]
    },
    {
      "cell_type": "code",
      "metadata": {
        "id": "jl2MPf9Yurb2",
        "colab_type": "code",
        "colab": {}
      },
      "source": [
        "def std_data(data):\n",
        "    def std_arr(arr):\n",
        "        arr = arr - arr.mean()\n",
        "        arr = arr / arr.std()\n",
        "        return arr\n",
        "\n",
        "    t_data = data.transpose()\n",
        "    std_data = np.zeros_like(t_data)\n",
        "    ind = 0\n",
        "    for col in t_data:\n",
        "        std_data[ind,:] = std_arr(col)[:]\n",
        "        ind+=1\n",
        "    return std_data.transpose()"
      ],
      "execution_count": 0,
      "outputs": []
    },
    {
      "cell_type": "code",
      "metadata": {
        "id": "NwjvzUVR6un6",
        "colab_type": "code",
        "colab": {}
      },
      "source": [
        "std_data = std_data(data)"
      ],
      "execution_count": 0,
      "outputs": []
    },
    {
      "cell_type": "code",
      "metadata": {
        "id": "5gXySOK-H6Lm",
        "colab_type": "code",
        "colab": {
          "base_uri": "https://localhost:8080/",
          "height": 35
        },
        "outputId": "4f242a7b-33ef-4727-f531-56159ad168b2"
      },
      "source": [
        "std_data.shape"
      ],
      "execution_count": 214,
      "outputs": [
        {
          "output_type": "execute_result",
          "data": {
            "text/plain": [
              "(500, 14)"
            ]
          },
          "metadata": {
            "tags": []
          },
          "execution_count": 214
        }
      ]
    },
    {
      "cell_type": "code",
      "metadata": {
        "id": "gkBldipDHjFc",
        "colab_type": "code",
        "colab": {}
      },
      "source": [
        "train_x, test_x = std_data[0:sh[0],:], std_data[sh[0]:,:]\n",
        "train_y, test_y = data_y[0:sh[0]], data_y[sh[0]:]"
      ],
      "execution_count": 0,
      "outputs": []
    },
    {
      "cell_type": "code",
      "metadata": {
        "id": "iFXkneG0JdRJ",
        "colab_type": "code",
        "colab": {}
      },
      "source": [
        "train_y = to_categorical(train_y)\n",
        "test_y = to_categorical(test_y)\n",
        "# train_y = train_y.reshape(-1,1)\n",
        "# test_y = test_y.reshape(-1,1)"
      ],
      "execution_count": 0,
      "outputs": []
    },
    {
      "cell_type": "code",
      "metadata": {
        "id": "WUckUWPiQcbi",
        "colab_type": "code",
        "colab": {
          "base_uri": "https://localhost:8080/",
          "height": 35
        },
        "outputId": "77f075c9-a7a5-442b-8552-fb62db42e70e"
      },
      "source": [
        "train_x.shape, test_x.shape, train_y.shape, test_y.shape"
      ],
      "execution_count": 217,
      "outputs": [
        {
          "output_type": "execute_result",
          "data": {
            "text/plain": [
              "((450, 14), (50, 14), (450, 2), (50, 2))"
            ]
          },
          "metadata": {
            "tags": []
          },
          "execution_count": 217
        }
      ]
    },
    {
      "cell_type": "code",
      "metadata": {
        "id": "j2zdE1-gqrfX",
        "colab_type": "code",
        "colab": {}
      },
      "source": [
        "def model():\n",
        "    model = Sequential()\n",
        "    model.add(Dense(train_x.shape[1], input_dim=train_x.shape[1], activation='sigmoid'))\n",
        "    model.add(Dense(2, activation = 'softmax'))\n",
        "    return model\n",
        "\n",
        "model = model()"
      ],
      "execution_count": 0,
      "outputs": []
    },
    {
      "cell_type": "code",
      "metadata": {
        "id": "SnU_b9Mcr4r6",
        "colab_type": "code",
        "colab": {}
      },
      "source": [
        "model.compile(optimizer = Adam(lr=0.01), loss = 'categorical_crossentropy', metrics = ['acc'])"
      ],
      "execution_count": 0,
      "outputs": []
    },
    {
      "cell_type": "code",
      "metadata": {
        "id": "Q-M_j63bK3Tl",
        "colab_type": "code",
        "colab": {
          "base_uri": "https://localhost:8080/",
          "height": 235
        },
        "outputId": "03069395-3d18-4619-b9df-32239e19a3e0"
      },
      "source": [
        "model.summary()"
      ],
      "execution_count": 269,
      "outputs": [
        {
          "output_type": "stream",
          "text": [
            "Model: \"sequential_32\"\n",
            "_________________________________________________________________\n",
            "Layer (type)                 Output Shape              Param #   \n",
            "=================================================================\n",
            "dense_62 (Dense)             (None, 14)                210       \n",
            "_________________________________________________________________\n",
            "dense_63 (Dense)             (None, 2)                 30        \n",
            "=================================================================\n",
            "Total params: 240\n",
            "Trainable params: 240\n",
            "Non-trainable params: 0\n",
            "_________________________________________________________________\n"
          ],
          "name": "stdout"
        }
      ]
    },
    {
      "cell_type": "code",
      "metadata": {
        "id": "5wxUtVx8OD0z",
        "colab_type": "code",
        "colab": {}
      },
      "source": [
        "reduce_lr = ReduceLROnPlateau(monitor='loss', factor=0.2, min_delta=0.004, patience=15, min_lr=0.005, verbose=1)"
      ],
      "execution_count": 0,
      "outputs": []
    },
    {
      "cell_type": "code",
      "metadata": {
        "id": "dW5zyxestAa1",
        "colab_type": "code",
        "colab": {}
      },
      "source": [
        "early_stop = EarlyStopping(monitor='acc', min_delta=0.0085, patience=40, verbose=1)"
      ],
      "execution_count": 0,
      "outputs": []
    },
    {
      "cell_type": "code",
      "metadata": {
        "id": "oIt_pPyoJbe0",
        "colab_type": "code",
        "colab": {
          "base_uri": "https://localhost:8080/",
          "height": 1000
        },
        "outputId": "f3dac2b6-53ac-4e33-f29d-8eac7ce850cd"
      },
      "source": [
        "history1 = model.fit(train_x, train_y, batch_size = 45, epochs=2000, shuffle = True, verbose = 1, validation_data=(test_x,test_y), callbacks=[reduce_lr, early_stop])"
      ],
      "execution_count": 272,
      "outputs": [
        {
          "output_type": "stream",
          "text": [
            "Train on 450 samples, validate on 50 samples\n",
            "Epoch 1/2000\n",
            "450/450 [==============================] - 2s 4ms/step - loss: 0.7137 - acc: 0.4689 - val_loss: 0.7179 - val_acc: 0.6000\n",
            "Epoch 2/2000\n",
            "450/450 [==============================] - 0s 194us/step - loss: 0.6601 - acc: 0.6267 - val_loss: 0.7209 - val_acc: 0.5400\n",
            "Epoch 3/2000\n",
            "450/450 [==============================] - 0s 131us/step - loss: 0.6541 - acc: 0.6222 - val_loss: 0.7181 - val_acc: 0.5400\n",
            "Epoch 4/2000\n",
            "450/450 [==============================] - 0s 116us/step - loss: 0.6503 - acc: 0.6267 - val_loss: 0.7038 - val_acc: 0.6400\n",
            "Epoch 5/2000\n",
            "450/450 [==============================] - 0s 117us/step - loss: 0.6487 - acc: 0.6356 - val_loss: 0.6969 - val_acc: 0.6200\n",
            "Epoch 6/2000\n",
            "450/450 [==============================] - 0s 134us/step - loss: 0.6465 - acc: 0.6289 - val_loss: 0.6969 - val_acc: 0.6400\n",
            "Epoch 7/2000\n",
            "450/450 [==============================] - 0s 135us/step - loss: 0.6440 - acc: 0.6400 - val_loss: 0.6912 - val_acc: 0.6400\n",
            "Epoch 8/2000\n",
            "450/450 [==============================] - 0s 118us/step - loss: 0.6443 - acc: 0.6289 - val_loss: 0.6860 - val_acc: 0.6400\n",
            "Epoch 9/2000\n",
            "450/450 [==============================] - 0s 123us/step - loss: 0.6435 - acc: 0.6333 - val_loss: 0.6866 - val_acc: 0.6400\n",
            "Epoch 10/2000\n",
            "450/450 [==============================] - 0s 111us/step - loss: 0.6453 - acc: 0.6422 - val_loss: 0.6931 - val_acc: 0.6600\n",
            "Epoch 11/2000\n",
            "450/450 [==============================] - 0s 129us/step - loss: 0.6417 - acc: 0.6356 - val_loss: 0.6968 - val_acc: 0.5800\n",
            "Epoch 12/2000\n",
            "450/450 [==============================] - 0s 125us/step - loss: 0.6412 - acc: 0.6378 - val_loss: 0.6911 - val_acc: 0.6600\n",
            "Epoch 13/2000\n",
            "450/450 [==============================] - 0s 114us/step - loss: 0.6467 - acc: 0.6378 - val_loss: 0.6878 - val_acc: 0.6400\n",
            "Epoch 14/2000\n",
            "450/450 [==============================] - 0s 120us/step - loss: 0.6389 - acc: 0.6378 - val_loss: 0.6911 - val_acc: 0.5800\n",
            "Epoch 15/2000\n",
            "450/450 [==============================] - 0s 117us/step - loss: 0.6388 - acc: 0.6289 - val_loss: 0.6871 - val_acc: 0.6400\n",
            "Epoch 16/2000\n",
            "450/450 [==============================] - 0s 122us/step - loss: 0.6364 - acc: 0.6489 - val_loss: 0.6871 - val_acc: 0.6400\n",
            "Epoch 17/2000\n",
            "450/450 [==============================] - 0s 122us/step - loss: 0.6369 - acc: 0.6467 - val_loss: 0.6893 - val_acc: 0.6200\n",
            "Epoch 18/2000\n",
            "450/450 [==============================] - 0s 122us/step - loss: 0.6359 - acc: 0.6400 - val_loss: 0.6836 - val_acc: 0.6400\n",
            "Epoch 19/2000\n",
            "450/450 [==============================] - 0s 154us/step - loss: 0.6361 - acc: 0.6467 - val_loss: 0.6844 - val_acc: 0.6400\n",
            "Epoch 20/2000\n",
            "450/450 [==============================] - 0s 122us/step - loss: 0.6333 - acc: 0.6556 - val_loss: 0.6861 - val_acc: 0.6400\n",
            "Epoch 21/2000\n",
            "450/450 [==============================] - 0s 156us/step - loss: 0.6353 - acc: 0.6333 - val_loss: 0.6824 - val_acc: 0.6400\n",
            "Epoch 22/2000\n",
            "450/450 [==============================] - 0s 128us/step - loss: 0.6348 - acc: 0.6422 - val_loss: 0.6887 - val_acc: 0.6000\n",
            "Epoch 23/2000\n",
            "450/450 [==============================] - 0s 134us/step - loss: 0.6312 - acc: 0.6467 - val_loss: 0.6756 - val_acc: 0.6200\n",
            "Epoch 24/2000\n",
            "450/450 [==============================] - 0s 135us/step - loss: 0.6322 - acc: 0.6511 - val_loss: 0.6790 - val_acc: 0.6000\n",
            "Epoch 25/2000\n",
            "450/450 [==============================] - 0s 135us/step - loss: 0.6276 - acc: 0.6556 - val_loss: 0.6779 - val_acc: 0.6200\n",
            "Epoch 26/2000\n",
            "450/450 [==============================] - 0s 149us/step - loss: 0.6266 - acc: 0.6578 - val_loss: 0.6779 - val_acc: 0.6200\n",
            "Epoch 27/2000\n",
            "450/450 [==============================] - 0s 127us/step - loss: 0.6260 - acc: 0.6533 - val_loss: 0.6767 - val_acc: 0.6200\n",
            "Epoch 28/2000\n",
            "450/450 [==============================] - 0s 145us/step - loss: 0.6235 - acc: 0.6556 - val_loss: 0.6751 - val_acc: 0.6000\n",
            "Epoch 29/2000\n",
            "450/450 [==============================] - 0s 138us/step - loss: 0.6253 - acc: 0.6733 - val_loss: 0.6737 - val_acc: 0.6200\n",
            "Epoch 30/2000\n",
            "450/450 [==============================] - 0s 160us/step - loss: 0.6209 - acc: 0.6644 - val_loss: 0.6783 - val_acc: 0.6200\n",
            "Epoch 31/2000\n",
            "450/450 [==============================] - 0s 124us/step - loss: 0.6218 - acc: 0.6622 - val_loss: 0.6685 - val_acc: 0.6200\n",
            "Epoch 32/2000\n",
            "450/450 [==============================] - 0s 149us/step - loss: 0.6226 - acc: 0.6556 - val_loss: 0.6667 - val_acc: 0.6200\n",
            "Epoch 33/2000\n",
            "450/450 [==============================] - 0s 137us/step - loss: 0.6168 - acc: 0.6689 - val_loss: 0.6676 - val_acc: 0.6400\n",
            "Epoch 34/2000\n",
            "450/450 [==============================] - 0s 166us/step - loss: 0.6155 - acc: 0.6800 - val_loss: 0.6710 - val_acc: 0.6000\n",
            "Epoch 35/2000\n",
            "450/450 [==============================] - 0s 132us/step - loss: 0.6126 - acc: 0.6800 - val_loss: 0.6651 - val_acc: 0.6200\n",
            "Epoch 36/2000\n",
            "450/450 [==============================] - 0s 115us/step - loss: 0.6124 - acc: 0.6889 - val_loss: 0.6574 - val_acc: 0.6400\n",
            "Epoch 37/2000\n",
            "450/450 [==============================] - 0s 139us/step - loss: 0.6102 - acc: 0.6822 - val_loss: 0.6577 - val_acc: 0.6400\n",
            "Epoch 38/2000\n",
            "450/450 [==============================] - 0s 128us/step - loss: 0.6093 - acc: 0.6800 - val_loss: 0.6656 - val_acc: 0.6600\n",
            "Epoch 39/2000\n",
            "450/450 [==============================] - 0s 113us/step - loss: 0.6089 - acc: 0.6667 - val_loss: 0.6681 - val_acc: 0.6200\n",
            "Epoch 40/2000\n",
            "450/450 [==============================] - 0s 116us/step - loss: 0.6038 - acc: 0.6867 - val_loss: 0.6565 - val_acc: 0.6400\n",
            "Epoch 41/2000\n",
            "450/450 [==============================] - 0s 135us/step - loss: 0.6092 - acc: 0.6622 - val_loss: 0.6546 - val_acc: 0.6200\n",
            "Epoch 42/2000\n",
            "450/450 [==============================] - 0s 127us/step - loss: 0.6063 - acc: 0.6733 - val_loss: 0.6528 - val_acc: 0.6600\n",
            "Epoch 43/2000\n",
            "450/450 [==============================] - 0s 128us/step - loss: 0.6032 - acc: 0.6800 - val_loss: 0.6620 - val_acc: 0.6400\n",
            "Epoch 44/2000\n",
            "450/450 [==============================] - 0s 135us/step - loss: 0.6014 - acc: 0.6800 - val_loss: 0.6593 - val_acc: 0.6400\n",
            "Epoch 45/2000\n",
            "450/450 [==============================] - 0s 137us/step - loss: 0.5944 - acc: 0.6978 - val_loss: 0.6627 - val_acc: 0.6200\n",
            "Epoch 46/2000\n",
            "450/450 [==============================] - 0s 132us/step - loss: 0.5934 - acc: 0.6844 - val_loss: 0.6516 - val_acc: 0.6400\n",
            "Epoch 47/2000\n",
            "450/450 [==============================] - 0s 123us/step - loss: 0.5928 - acc: 0.6778 - val_loss: 0.6428 - val_acc: 0.6600\n",
            "Epoch 48/2000\n",
            "450/450 [==============================] - 0s 114us/step - loss: 0.5914 - acc: 0.6822 - val_loss: 0.6510 - val_acc: 0.6600\n",
            "Epoch 49/2000\n",
            "450/450 [==============================] - 0s 153us/step - loss: 0.5885 - acc: 0.6889 - val_loss: 0.6565 - val_acc: 0.6200\n",
            "Epoch 50/2000\n",
            "450/450 [==============================] - 0s 166us/step - loss: 0.5858 - acc: 0.6956 - val_loss: 0.6527 - val_acc: 0.6800\n",
            "Epoch 51/2000\n",
            "450/450 [==============================] - 0s 123us/step - loss: 0.5845 - acc: 0.6867 - val_loss: 0.6508 - val_acc: 0.6600\n",
            "Epoch 52/2000\n",
            "450/450 [==============================] - 0s 144us/step - loss: 0.5818 - acc: 0.6978 - val_loss: 0.6492 - val_acc: 0.6600\n",
            "Epoch 53/2000\n",
            "450/450 [==============================] - 0s 125us/step - loss: 0.5826 - acc: 0.6978 - val_loss: 0.6417 - val_acc: 0.6600\n",
            "Epoch 54/2000\n",
            "450/450 [==============================] - 0s 115us/step - loss: 0.5832 - acc: 0.6911 - val_loss: 0.6446 - val_acc: 0.6800\n",
            "Epoch 55/2000\n",
            "450/450 [==============================] - 0s 118us/step - loss: 0.5863 - acc: 0.6956 - val_loss: 0.6572 - val_acc: 0.6200\n",
            "Epoch 56/2000\n",
            "450/450 [==============================] - 0s 134us/step - loss: 0.5875 - acc: 0.6778 - val_loss: 0.6498 - val_acc: 0.7200\n",
            "Epoch 57/2000\n",
            "450/450 [==============================] - 0s 137us/step - loss: 0.5732 - acc: 0.7133 - val_loss: 0.6563 - val_acc: 0.6600\n",
            "Epoch 58/2000\n",
            "450/450 [==============================] - 0s 145us/step - loss: 0.5756 - acc: 0.7022 - val_loss: 0.6473 - val_acc: 0.6800\n",
            "Epoch 59/2000\n",
            "450/450 [==============================] - 0s 116us/step - loss: 0.5732 - acc: 0.7111 - val_loss: 0.6537 - val_acc: 0.6800\n",
            "Epoch 60/2000\n",
            "450/450 [==============================] - 0s 138us/step - loss: 0.5711 - acc: 0.7044 - val_loss: 0.6468 - val_acc: 0.6800\n",
            "Epoch 61/2000\n",
            "450/450 [==============================] - 0s 133us/step - loss: 0.5683 - acc: 0.7133 - val_loss: 0.6523 - val_acc: 0.6800\n",
            "Epoch 62/2000\n",
            "450/450 [==============================] - 0s 137us/step - loss: 0.5700 - acc: 0.7044 - val_loss: 0.6415 - val_acc: 0.6800\n",
            "Epoch 63/2000\n",
            "450/450 [==============================] - 0s 132us/step - loss: 0.5668 - acc: 0.7089 - val_loss: 0.6484 - val_acc: 0.6600\n",
            "Epoch 64/2000\n",
            "450/450 [==============================] - 0s 167us/step - loss: 0.5668 - acc: 0.7133 - val_loss: 0.6442 - val_acc: 0.7000\n",
            "Epoch 65/2000\n",
            "450/450 [==============================] - 0s 122us/step - loss: 0.5664 - acc: 0.7222 - val_loss: 0.6470 - val_acc: 0.6800\n",
            "Epoch 66/2000\n",
            "450/450 [==============================] - 0s 137us/step - loss: 0.5627 - acc: 0.7044 - val_loss: 0.6484 - val_acc: 0.7000\n",
            "Epoch 67/2000\n",
            "450/450 [==============================] - 0s 125us/step - loss: 0.5638 - acc: 0.7222 - val_loss: 0.6487 - val_acc: 0.7000\n",
            "Epoch 68/2000\n",
            "450/450 [==============================] - 0s 130us/step - loss: 0.5611 - acc: 0.7133 - val_loss: 0.6446 - val_acc: 0.7200\n",
            "Epoch 69/2000\n",
            "450/450 [==============================] - 0s 119us/step - loss: 0.5586 - acc: 0.7178 - val_loss: 0.6440 - val_acc: 0.7400\n",
            "Epoch 70/2000\n",
            "450/450 [==============================] - 0s 126us/step - loss: 0.5586 - acc: 0.7133 - val_loss: 0.6480 - val_acc: 0.7200\n",
            "Epoch 71/2000\n",
            "450/450 [==============================] - 0s 109us/step - loss: 0.5592 - acc: 0.7244 - val_loss: 0.6494 - val_acc: 0.7200\n",
            "Epoch 72/2000\n",
            "450/450 [==============================] - 0s 124us/step - loss: 0.5558 - acc: 0.7289 - val_loss: 0.6444 - val_acc: 0.7000\n",
            "Epoch 73/2000\n",
            "450/450 [==============================] - 0s 124us/step - loss: 0.5564 - acc: 0.7178 - val_loss: 0.6465 - val_acc: 0.7400\n",
            "Epoch 74/2000\n",
            "450/450 [==============================] - 0s 125us/step - loss: 0.5587 - acc: 0.7356 - val_loss: 0.6576 - val_acc: 0.6800\n",
            "Epoch 75/2000\n",
            "450/450 [==============================] - 0s 117us/step - loss: 0.5582 - acc: 0.7089 - val_loss: 0.6360 - val_acc: 0.7400\n",
            "Epoch 76/2000\n",
            "450/450 [==============================] - 0s 135us/step - loss: 0.5561 - acc: 0.7333 - val_loss: 0.6564 - val_acc: 0.6800\n",
            "Epoch 77/2000\n",
            "450/450 [==============================] - 0s 117us/step - loss: 0.5513 - acc: 0.7133 - val_loss: 0.6461 - val_acc: 0.7400\n",
            "Epoch 78/2000\n",
            "450/450 [==============================] - 0s 114us/step - loss: 0.5495 - acc: 0.7111 - val_loss: 0.6473 - val_acc: 0.7000\n",
            "Epoch 79/2000\n",
            "450/450 [==============================] - 0s 118us/step - loss: 0.5495 - acc: 0.7289 - val_loss: 0.6529 - val_acc: 0.7000\n",
            "Epoch 80/2000\n",
            "450/450 [==============================] - 0s 128us/step - loss: 0.5486 - acc: 0.7356 - val_loss: 0.6519 - val_acc: 0.7200\n",
            "Epoch 81/2000\n",
            "450/450 [==============================] - 0s 113us/step - loss: 0.5460 - acc: 0.7378 - val_loss: 0.6503 - val_acc: 0.7400\n",
            "Epoch 82/2000\n",
            "450/450 [==============================] - 0s 117us/step - loss: 0.5505 - acc: 0.7089 - val_loss: 0.6521 - val_acc: 0.7400\n",
            "Epoch 83/2000\n",
            "450/450 [==============================] - 0s 145us/step - loss: 0.5514 - acc: 0.7378 - val_loss: 0.6603 - val_acc: 0.7000\n",
            "Epoch 84/2000\n",
            "450/450 [==============================] - 0s 126us/step - loss: 0.5425 - acc: 0.7356 - val_loss: 0.6470 - val_acc: 0.7400\n",
            "Epoch 85/2000\n",
            "450/450 [==============================] - 0s 114us/step - loss: 0.5424 - acc: 0.7244 - val_loss: 0.6500 - val_acc: 0.7400\n",
            "Epoch 86/2000\n",
            "450/450 [==============================] - 0s 116us/step - loss: 0.5444 - acc: 0.7422 - val_loss: 0.6501 - val_acc: 0.7200\n",
            "Epoch 87/2000\n",
            "450/450 [==============================] - 0s 130us/step - loss: 0.5392 - acc: 0.7378 - val_loss: 0.6492 - val_acc: 0.7600\n",
            "Epoch 88/2000\n",
            "450/450 [==============================] - 0s 124us/step - loss: 0.5396 - acc: 0.7356 - val_loss: 0.6529 - val_acc: 0.7400\n",
            "Epoch 89/2000\n",
            "450/450 [==============================] - 0s 141us/step - loss: 0.5383 - acc: 0.7444 - val_loss: 0.6495 - val_acc: 0.7400\n",
            "Epoch 90/2000\n",
            "450/450 [==============================] - 0s 128us/step - loss: 0.5369 - acc: 0.7422 - val_loss: 0.6598 - val_acc: 0.7200\n",
            "Epoch 91/2000\n",
            "450/450 [==============================] - 0s 128us/step - loss: 0.5353 - acc: 0.7400 - val_loss: 0.6590 - val_acc: 0.7400\n",
            "Epoch 92/2000\n",
            "450/450 [==============================] - 0s 134us/step - loss: 0.5333 - acc: 0.7511 - val_loss: 0.6499 - val_acc: 0.7600\n",
            "Epoch 93/2000\n",
            "450/450 [==============================] - 0s 124us/step - loss: 0.5344 - acc: 0.7400 - val_loss: 0.6503 - val_acc: 0.7400\n",
            "Epoch 94/2000\n",
            "450/450 [==============================] - 0s 116us/step - loss: 0.5386 - acc: 0.7311 - val_loss: 0.6603 - val_acc: 0.7400\n",
            "Epoch 95/2000\n",
            "450/450 [==============================] - 0s 116us/step - loss: 0.5335 - acc: 0.7467 - val_loss: 0.6577 - val_acc: 0.7600\n",
            "Epoch 96/2000\n",
            "450/450 [==============================] - 0s 131us/step - loss: 0.5315 - acc: 0.7467 - val_loss: 0.6637 - val_acc: 0.7200\n",
            "Epoch 97/2000\n",
            "450/450 [==============================] - 0s 117us/step - loss: 0.5281 - acc: 0.7511 - val_loss: 0.6536 - val_acc: 0.7400\n",
            "Epoch 98/2000\n",
            "450/450 [==============================] - 0s 114us/step - loss: 0.5280 - acc: 0.7467 - val_loss: 0.6601 - val_acc: 0.7400\n",
            "Epoch 99/2000\n",
            "450/450 [==============================] - 0s 134us/step - loss: 0.5280 - acc: 0.7556 - val_loss: 0.6527 - val_acc: 0.7400\n",
            "Epoch 100/2000\n",
            "450/450 [==============================] - 0s 152us/step - loss: 0.5302 - acc: 0.7400 - val_loss: 0.6638 - val_acc: 0.7400\n",
            "Epoch 101/2000\n",
            "450/450 [==============================] - 0s 130us/step - loss: 0.5229 - acc: 0.7511 - val_loss: 0.6552 - val_acc: 0.7400\n",
            "Epoch 102/2000\n",
            "450/450 [==============================] - 0s 121us/step - loss: 0.5224 - acc: 0.7533 - val_loss: 0.6604 - val_acc: 0.7400\n",
            "Epoch 103/2000\n",
            "450/450 [==============================] - 0s 127us/step - loss: 0.5226 - acc: 0.7556 - val_loss: 0.6584 - val_acc: 0.7600\n",
            "Epoch 104/2000\n",
            "450/450 [==============================] - 0s 130us/step - loss: 0.5202 - acc: 0.7467 - val_loss: 0.6630 - val_acc: 0.7200\n",
            "Epoch 105/2000\n",
            "450/450 [==============================] - 0s 137us/step - loss: 0.5202 - acc: 0.7511 - val_loss: 0.6562 - val_acc: 0.7400\n",
            "Epoch 106/2000\n",
            "450/450 [==============================] - 0s 123us/step - loss: 0.5180 - acc: 0.7378 - val_loss: 0.6618 - val_acc: 0.7400\n",
            "Epoch 107/2000\n",
            "450/450 [==============================] - 0s 120us/step - loss: 0.5156 - acc: 0.7422 - val_loss: 0.6674 - val_acc: 0.7400\n",
            "Epoch 108/2000\n",
            "450/450 [==============================] - 0s 148us/step - loss: 0.5163 - acc: 0.7444 - val_loss: 0.6683 - val_acc: 0.7400\n",
            "Epoch 109/2000\n",
            "450/450 [==============================] - 0s 153us/step - loss: 0.5143 - acc: 0.7556 - val_loss: 0.6635 - val_acc: 0.7600\n",
            "Epoch 110/2000\n",
            "450/450 [==============================] - 0s 115us/step - loss: 0.5141 - acc: 0.7511 - val_loss: 0.6636 - val_acc: 0.7400\n",
            "Epoch 111/2000\n",
            "450/450 [==============================] - 0s 145us/step - loss: 0.5170 - acc: 0.7467 - val_loss: 0.6703 - val_acc: 0.7400\n",
            "Epoch 112/2000\n",
            "450/450 [==============================] - 0s 127us/step - loss: 0.5164 - acc: 0.7533 - val_loss: 0.6635 - val_acc: 0.7200\n",
            "Epoch 113/2000\n",
            "450/450 [==============================] - 0s 122us/step - loss: 0.5085 - acc: 0.7556 - val_loss: 0.6575 - val_acc: 0.7400\n",
            "Epoch 114/2000\n",
            "450/450 [==============================] - 0s 128us/step - loss: 0.5116 - acc: 0.7356 - val_loss: 0.6626 - val_acc: 0.7200\n",
            "Epoch 115/2000\n",
            "450/450 [==============================] - 0s 146us/step - loss: 0.5091 - acc: 0.7400 - val_loss: 0.6609 - val_acc: 0.7200\n",
            "Epoch 116/2000\n",
            "450/450 [==============================] - 0s 128us/step - loss: 0.5085 - acc: 0.7511 - val_loss: 0.6688 - val_acc: 0.7000\n",
            "Epoch 117/2000\n",
            "450/450 [==============================] - 0s 119us/step - loss: 0.5104 - acc: 0.7444 - val_loss: 0.6681 - val_acc: 0.7000\n",
            "Epoch 118/2000\n",
            "450/450 [==============================] - 0s 112us/step - loss: 0.5054 - acc: 0.7489 - val_loss: 0.6706 - val_acc: 0.7200\n",
            "Epoch 119/2000\n",
            "450/450 [==============================] - 0s 129us/step - loss: 0.5055 - acc: 0.7489 - val_loss: 0.6616 - val_acc: 0.7200\n",
            "Epoch 120/2000\n",
            "450/450 [==============================] - 0s 120us/step - loss: 0.5054 - acc: 0.7511 - val_loss: 0.6586 - val_acc: 0.7000\n",
            "Epoch 121/2000\n",
            "450/450 [==============================] - 0s 118us/step - loss: 0.5013 - acc: 0.7489 - val_loss: 0.6710 - val_acc: 0.7000\n",
            "Epoch 122/2000\n",
            "450/450 [==============================] - 0s 114us/step - loss: 0.5028 - acc: 0.7556 - val_loss: 0.6698 - val_acc: 0.7000\n",
            "Epoch 123/2000\n",
            "450/450 [==============================] - 0s 123us/step - loss: 0.5044 - acc: 0.7600 - val_loss: 0.6806 - val_acc: 0.7000\n",
            "Epoch 124/2000\n",
            "450/450 [==============================] - 0s 155us/step - loss: 0.5014 - acc: 0.7600 - val_loss: 0.6624 - val_acc: 0.7200\n",
            "Epoch 125/2000\n",
            "450/450 [==============================] - 0s 120us/step - loss: 0.4978 - acc: 0.7644 - val_loss: 0.6707 - val_acc: 0.7000\n",
            "Epoch 126/2000\n",
            "450/450 [==============================] - 0s 131us/step - loss: 0.5020 - acc: 0.7511 - val_loss: 0.6836 - val_acc: 0.6800\n",
            "Epoch 127/2000\n",
            "450/450 [==============================] - 0s 134us/step - loss: 0.5053 - acc: 0.7444 - val_loss: 0.6639 - val_acc: 0.7200\n",
            "Epoch 128/2000\n",
            "450/450 [==============================] - 0s 126us/step - loss: 0.4930 - acc: 0.7644 - val_loss: 0.6793 - val_acc: 0.6800\n",
            "Epoch 129/2000\n",
            "450/450 [==============================] - 0s 119us/step - loss: 0.4961 - acc: 0.7578 - val_loss: 0.6699 - val_acc: 0.7000\n",
            "Epoch 130/2000\n",
            "450/450 [==============================] - 0s 121us/step - loss: 0.4957 - acc: 0.7622 - val_loss: 0.6597 - val_acc: 0.7000\n",
            "Epoch 131/2000\n",
            "450/450 [==============================] - 0s 119us/step - loss: 0.4938 - acc: 0.7533 - val_loss: 0.6809 - val_acc: 0.7000\n",
            "Epoch 132/2000\n",
            "450/450 [==============================] - 0s 175us/step - loss: 0.4919 - acc: 0.7600 - val_loss: 0.6619 - val_acc: 0.7000\n",
            "Epoch 133/2000\n",
            "450/450 [==============================] - 0s 130us/step - loss: 0.4909 - acc: 0.7667 - val_loss: 0.6672 - val_acc: 0.7000\n",
            "Epoch 134/2000\n",
            "450/450 [==============================] - 0s 122us/step - loss: 0.4930 - acc: 0.7644 - val_loss: 0.6762 - val_acc: 0.6600\n",
            "Epoch 135/2000\n",
            "450/450 [==============================] - 0s 132us/step - loss: 0.4872 - acc: 0.7667 - val_loss: 0.6729 - val_acc: 0.7000\n",
            "Epoch 136/2000\n",
            "450/450 [==============================] - 0s 115us/step - loss: 0.4879 - acc: 0.7622 - val_loss: 0.6746 - val_acc: 0.7000\n",
            "Epoch 137/2000\n",
            "450/450 [==============================] - 0s 114us/step - loss: 0.4864 - acc: 0.7711 - val_loss: 0.6723 - val_acc: 0.7000\n",
            "Epoch 138/2000\n",
            "450/450 [==============================] - 0s 112us/step - loss: 0.4850 - acc: 0.7800 - val_loss: 0.6705 - val_acc: 0.7000\n",
            "Epoch 139/2000\n",
            "450/450 [==============================] - 0s 112us/step - loss: 0.4838 - acc: 0.7667 - val_loss: 0.6689 - val_acc: 0.7000\n",
            "Epoch 140/2000\n",
            "450/450 [==============================] - 0s 139us/step - loss: 0.4844 - acc: 0.7689 - val_loss: 0.6688 - val_acc: 0.7000\n",
            "Epoch 141/2000\n",
            "450/450 [==============================] - 0s 120us/step - loss: 0.4811 - acc: 0.7644 - val_loss: 0.6764 - val_acc: 0.7000\n",
            "Epoch 142/2000\n",
            "450/450 [==============================] - 0s 157us/step - loss: 0.4789 - acc: 0.7689 - val_loss: 0.6688 - val_acc: 0.7000\n",
            "Epoch 143/2000\n",
            "450/450 [==============================] - 0s 180us/step - loss: 0.4831 - acc: 0.7778 - val_loss: 0.6694 - val_acc: 0.7000\n",
            "Epoch 144/2000\n",
            "450/450 [==============================] - 0s 123us/step - loss: 0.4819 - acc: 0.7822 - val_loss: 0.6630 - val_acc: 0.7000\n",
            "Epoch 145/2000\n",
            "450/450 [==============================] - 0s 125us/step - loss: 0.4835 - acc: 0.7733 - val_loss: 0.6907 - val_acc: 0.6600\n",
            "Epoch 146/2000\n",
            "450/450 [==============================] - 0s 122us/step - loss: 0.4773 - acc: 0.7844 - val_loss: 0.6635 - val_acc: 0.7000\n",
            "Epoch 147/2000\n",
            "450/450 [==============================] - 0s 137us/step - loss: 0.4739 - acc: 0.7867 - val_loss: 0.6755 - val_acc: 0.6600\n",
            "Epoch 148/2000\n",
            "450/450 [==============================] - 0s 129us/step - loss: 0.4769 - acc: 0.7733 - val_loss: 0.6697 - val_acc: 0.6800\n",
            "Epoch 149/2000\n",
            "450/450 [==============================] - 0s 152us/step - loss: 0.4738 - acc: 0.7867 - val_loss: 0.6685 - val_acc: 0.7000\n",
            "Epoch 150/2000\n",
            "450/450 [==============================] - 0s 122us/step - loss: 0.4713 - acc: 0.7844 - val_loss: 0.6696 - val_acc: 0.6800\n",
            "Epoch 151/2000\n",
            "450/450 [==============================] - 0s 132us/step - loss: 0.4703 - acc: 0.7800 - val_loss: 0.6777 - val_acc: 0.6400\n",
            "Epoch 152/2000\n",
            "450/450 [==============================] - 0s 122us/step - loss: 0.4699 - acc: 0.7911 - val_loss: 0.6707 - val_acc: 0.6800\n",
            "Epoch 153/2000\n",
            "450/450 [==============================] - 0s 128us/step - loss: 0.4685 - acc: 0.7889 - val_loss: 0.6718 - val_acc: 0.6800\n",
            "Epoch 154/2000\n",
            "450/450 [==============================] - 0s 132us/step - loss: 0.4677 - acc: 0.7822 - val_loss: 0.6863 - val_acc: 0.6400\n",
            "Epoch 155/2000\n",
            "450/450 [==============================] - 0s 142us/step - loss: 0.4702 - acc: 0.7756 - val_loss: 0.6663 - val_acc: 0.6800\n",
            "Epoch 156/2000\n",
            "450/450 [==============================] - 0s 127us/step - loss: 0.4665 - acc: 0.7844 - val_loss: 0.6709 - val_acc: 0.6600\n",
            "Epoch 157/2000\n",
            "450/450 [==============================] - 0s 135us/step - loss: 0.4648 - acc: 0.7822 - val_loss: 0.6762 - val_acc: 0.6800\n",
            "Epoch 158/2000\n",
            "450/450 [==============================] - 0s 123us/step - loss: 0.4639 - acc: 0.7844 - val_loss: 0.6738 - val_acc: 0.6800\n",
            "Epoch 159/2000\n",
            "450/450 [==============================] - 0s 141us/step - loss: 0.4612 - acc: 0.7911 - val_loss: 0.6803 - val_acc: 0.6400\n",
            "Epoch 160/2000\n",
            "450/450 [==============================] - 0s 131us/step - loss: 0.4619 - acc: 0.7889 - val_loss: 0.6740 - val_acc: 0.6800\n",
            "Epoch 161/2000\n",
            "450/450 [==============================] - 0s 119us/step - loss: 0.4615 - acc: 0.7778 - val_loss: 0.6727 - val_acc: 0.6600\n",
            "Epoch 162/2000\n",
            "450/450 [==============================] - 0s 119us/step - loss: 0.4597 - acc: 0.7822 - val_loss: 0.6737 - val_acc: 0.6600\n",
            "Epoch 163/2000\n",
            "450/450 [==============================] - 0s 140us/step - loss: 0.4588 - acc: 0.7889 - val_loss: 0.6712 - val_acc: 0.6600\n",
            "Epoch 164/2000\n",
            "450/450 [==============================] - 0s 143us/step - loss: 0.4584 - acc: 0.7933 - val_loss: 0.6684 - val_acc: 0.6600\n",
            "Epoch 165/2000\n",
            "450/450 [==============================] - 0s 133us/step - loss: 0.4625 - acc: 0.7889 - val_loss: 0.6790 - val_acc: 0.6400\n",
            "Epoch 166/2000\n",
            "450/450 [==============================] - 0s 131us/step - loss: 0.4568 - acc: 0.7844 - val_loss: 0.6678 - val_acc: 0.6800\n",
            "Epoch 167/2000\n",
            "450/450 [==============================] - 0s 133us/step - loss: 0.4549 - acc: 0.7889 - val_loss: 0.6868 - val_acc: 0.6600\n",
            "Epoch 168/2000\n",
            "450/450 [==============================] - 0s 134us/step - loss: 0.4537 - acc: 0.7911 - val_loss: 0.6833 - val_acc: 0.6400\n",
            "Epoch 169/2000\n",
            "450/450 [==============================] - 0s 133us/step - loss: 0.4535 - acc: 0.7956 - val_loss: 0.6783 - val_acc: 0.6600\n",
            "Epoch 170/2000\n",
            "450/450 [==============================] - 0s 144us/step - loss: 0.4539 - acc: 0.7867 - val_loss: 0.6735 - val_acc: 0.6600\n",
            "Epoch 171/2000\n",
            "450/450 [==============================] - 0s 126us/step - loss: 0.4533 - acc: 0.7911 - val_loss: 0.6750 - val_acc: 0.6800\n",
            "Epoch 172/2000\n",
            "450/450 [==============================] - 0s 122us/step - loss: 0.4486 - acc: 0.7978 - val_loss: 0.6840 - val_acc: 0.6400\n",
            "Epoch 173/2000\n",
            "450/450 [==============================] - 0s 124us/step - loss: 0.4518 - acc: 0.7889 - val_loss: 0.6909 - val_acc: 0.6400\n",
            "Epoch 174/2000\n",
            "450/450 [==============================] - 0s 134us/step - loss: 0.4472 - acc: 0.7978 - val_loss: 0.6807 - val_acc: 0.6400\n",
            "Epoch 175/2000\n",
            "450/450 [==============================] - 0s 128us/step - loss: 0.4473 - acc: 0.8000 - val_loss: 0.6756 - val_acc: 0.6800\n",
            "Epoch 176/2000\n",
            "450/450 [==============================] - 0s 116us/step - loss: 0.4471 - acc: 0.7978 - val_loss: 0.6771 - val_acc: 0.6400\n",
            "Epoch 177/2000\n",
            "450/450 [==============================] - 0s 114us/step - loss: 0.4474 - acc: 0.7867 - val_loss: 0.6805 - val_acc: 0.6800\n",
            "Epoch 178/2000\n",
            "450/450 [==============================] - 0s 120us/step - loss: 0.4469 - acc: 0.8067 - val_loss: 0.6824 - val_acc: 0.6400\n",
            "Epoch 179/2000\n",
            "450/450 [==============================] - 0s 122us/step - loss: 0.4431 - acc: 0.7956 - val_loss: 0.6755 - val_acc: 0.6400\n",
            "Epoch 180/2000\n",
            "450/450 [==============================] - 0s 121us/step - loss: 0.4445 - acc: 0.8044 - val_loss: 0.6841 - val_acc: 0.6400\n",
            "Epoch 181/2000\n",
            "450/450 [==============================] - 0s 143us/step - loss: 0.4400 - acc: 0.8022 - val_loss: 0.6792 - val_acc: 0.6400\n",
            "Epoch 182/2000\n",
            "450/450 [==============================] - 0s 124us/step - loss: 0.4429 - acc: 0.7933 - val_loss: 0.6793 - val_acc: 0.6800\n",
            "Epoch 183/2000\n",
            "450/450 [==============================] - 0s 136us/step - loss: 0.4398 - acc: 0.8022 - val_loss: 0.6858 - val_acc: 0.6600\n",
            "Epoch 184/2000\n",
            "450/450 [==============================] - 0s 147us/step - loss: 0.4397 - acc: 0.8000 - val_loss: 0.6858 - val_acc: 0.6400\n",
            "Epoch 185/2000\n",
            "450/450 [==============================] - 0s 134us/step - loss: 0.4412 - acc: 0.7978 - val_loss: 0.6895 - val_acc: 0.6400\n",
            "Epoch 186/2000\n",
            "450/450 [==============================] - 0s 128us/step - loss: 0.4408 - acc: 0.8133 - val_loss: 0.6690 - val_acc: 0.6600\n",
            "Epoch 187/2000\n",
            "450/450 [==============================] - 0s 127us/step - loss: 0.4394 - acc: 0.8156 - val_loss: 0.6815 - val_acc: 0.6800\n",
            "Epoch 188/2000\n",
            "450/450 [==============================] - 0s 128us/step - loss: 0.4359 - acc: 0.8111 - val_loss: 0.6786 - val_acc: 0.6800\n",
            "Epoch 189/2000\n",
            "450/450 [==============================] - 0s 132us/step - loss: 0.4319 - acc: 0.8022 - val_loss: 0.6909 - val_acc: 0.6400\n",
            "Epoch 190/2000\n",
            "450/450 [==============================] - 0s 135us/step - loss: 0.4352 - acc: 0.8022 - val_loss: 0.6849 - val_acc: 0.6400\n",
            "Epoch 191/2000\n",
            "450/450 [==============================] - 0s 118us/step - loss: 0.4326 - acc: 0.8156 - val_loss: 0.6829 - val_acc: 0.6400\n",
            "Epoch 192/2000\n",
            "450/450 [==============================] - 0s 110us/step - loss: 0.4302 - acc: 0.8222 - val_loss: 0.6863 - val_acc: 0.6800\n",
            "Epoch 193/2000\n",
            "450/450 [==============================] - 0s 116us/step - loss: 0.4322 - acc: 0.8156 - val_loss: 0.6892 - val_acc: 0.6600\n",
            "Epoch 194/2000\n",
            "450/450 [==============================] - 0s 112us/step - loss: 0.4291 - acc: 0.8133 - val_loss: 0.6768 - val_acc: 0.7000\n",
            "Epoch 195/2000\n",
            "450/450 [==============================] - 0s 127us/step - loss: 0.4303 - acc: 0.8022 - val_loss: 0.6831 - val_acc: 0.6800\n",
            "Epoch 196/2000\n",
            "450/450 [==============================] - 0s 122us/step - loss: 0.4301 - acc: 0.8067 - val_loss: 0.6925 - val_acc: 0.7000\n",
            "Epoch 197/2000\n",
            "450/450 [==============================] - 0s 110us/step - loss: 0.4273 - acc: 0.8178 - val_loss: 0.6827 - val_acc: 0.6800\n",
            "Epoch 198/2000\n",
            "450/450 [==============================] - 0s 140us/step - loss: 0.4261 - acc: 0.8156 - val_loss: 0.6867 - val_acc: 0.6600\n",
            "Epoch 199/2000\n",
            "450/450 [==============================] - 0s 135us/step - loss: 0.4274 - acc: 0.8244 - val_loss: 0.6864 - val_acc: 0.7000\n",
            "Epoch 200/2000\n",
            "450/450 [==============================] - 0s 120us/step - loss: 0.4271 - acc: 0.8156 - val_loss: 0.6869 - val_acc: 0.7000\n",
            "Epoch 201/2000\n",
            "450/450 [==============================] - 0s 116us/step - loss: 0.4254 - acc: 0.8111 - val_loss: 0.6918 - val_acc: 0.7000\n",
            "Epoch 202/2000\n",
            "450/450 [==============================] - 0s 116us/step - loss: 0.4262 - acc: 0.8044 - val_loss: 0.6752 - val_acc: 0.6400\n",
            "Epoch 203/2000\n",
            "450/450 [==============================] - 0s 142us/step - loss: 0.4263 - acc: 0.8178 - val_loss: 0.6883 - val_acc: 0.7000\n",
            "Epoch 204/2000\n",
            "450/450 [==============================] - 0s 146us/step - loss: 0.4224 - acc: 0.8089 - val_loss: 0.6874 - val_acc: 0.7000\n",
            "Epoch 205/2000\n",
            "450/450 [==============================] - 0s 126us/step - loss: 0.4226 - acc: 0.8111 - val_loss: 0.6902 - val_acc: 0.7000\n",
            "Epoch 206/2000\n",
            "450/450 [==============================] - 0s 108us/step - loss: 0.4206 - acc: 0.8156 - val_loss: 0.6853 - val_acc: 0.7000\n",
            "Epoch 207/2000\n",
            "450/450 [==============================] - 0s 136us/step - loss: 0.4258 - acc: 0.8200 - val_loss: 0.6902 - val_acc: 0.6800\n",
            "Epoch 208/2000\n",
            "450/450 [==============================] - 0s 128us/step - loss: 0.4167 - acc: 0.8333 - val_loss: 0.6825 - val_acc: 0.6800\n",
            "Epoch 209/2000\n",
            "450/450 [==============================] - 0s 157us/step - loss: 0.4191 - acc: 0.8200 - val_loss: 0.6877 - val_acc: 0.7000\n",
            "Epoch 210/2000\n",
            "450/450 [==============================] - 0s 125us/step - loss: 0.4197 - acc: 0.8089 - val_loss: 0.6909 - val_acc: 0.7000\n",
            "Epoch 211/2000\n",
            "450/450 [==============================] - 0s 117us/step - loss: 0.4185 - acc: 0.8333 - val_loss: 0.6929 - val_acc: 0.7000\n",
            "Epoch 212/2000\n",
            "450/450 [==============================] - 0s 138us/step - loss: 0.4170 - acc: 0.8200 - val_loss: 0.6797 - val_acc: 0.6800\n",
            "Epoch 213/2000\n",
            "450/450 [==============================] - 0s 126us/step - loss: 0.4138 - acc: 0.8333 - val_loss: 0.6864 - val_acc: 0.7000\n",
            "Epoch 214/2000\n",
            "450/450 [==============================] - 0s 163us/step - loss: 0.4151 - acc: 0.8222 - val_loss: 0.6845 - val_acc: 0.7000\n",
            "Epoch 215/2000\n",
            "450/450 [==============================] - 0s 130us/step - loss: 0.4101 - acc: 0.8289 - val_loss: 0.7038 - val_acc: 0.7000\n",
            "Epoch 216/2000\n",
            "450/450 [==============================] - 0s 131us/step - loss: 0.4095 - acc: 0.8378 - val_loss: 0.6969 - val_acc: 0.7000\n",
            "Epoch 217/2000\n",
            "450/450 [==============================] - 0s 124us/step - loss: 0.4088 - acc: 0.8356 - val_loss: 0.6874 - val_acc: 0.6600\n",
            "Epoch 218/2000\n",
            "450/450 [==============================] - 0s 128us/step - loss: 0.4110 - acc: 0.8200 - val_loss: 0.6972 - val_acc: 0.7000\n",
            "Epoch 219/2000\n",
            "450/450 [==============================] - 0s 129us/step - loss: 0.4098 - acc: 0.8267 - val_loss: 0.6828 - val_acc: 0.6800\n",
            "Epoch 220/2000\n",
            "450/450 [==============================] - 0s 111us/step - loss: 0.4061 - acc: 0.8267 - val_loss: 0.6896 - val_acc: 0.7000\n",
            "Epoch 221/2000\n",
            "450/450 [==============================] - 0s 120us/step - loss: 0.4102 - acc: 0.8311 - val_loss: 0.6899 - val_acc: 0.7000\n",
            "Epoch 222/2000\n",
            "450/450 [==============================] - 0s 114us/step - loss: 0.4054 - acc: 0.8333 - val_loss: 0.6813 - val_acc: 0.6800\n",
            "Epoch 223/2000\n",
            "450/450 [==============================] - 0s 129us/step - loss: 0.4081 - acc: 0.8267 - val_loss: 0.6894 - val_acc: 0.6800\n",
            "Epoch 224/2000\n",
            "450/450 [==============================] - 0s 112us/step - loss: 0.4048 - acc: 0.8400 - val_loss: 0.6929 - val_acc: 0.7000\n",
            "Epoch 225/2000\n",
            "450/450 [==============================] - 0s 115us/step - loss: 0.4042 - acc: 0.8356 - val_loss: 0.6878 - val_acc: 0.7000\n",
            "Epoch 226/2000\n",
            "450/450 [==============================] - 0s 116us/step - loss: 0.4025 - acc: 0.8444 - val_loss: 0.6934 - val_acc: 0.7000\n",
            "Epoch 227/2000\n",
            "450/450 [==============================] - 0s 121us/step - loss: 0.4101 - acc: 0.8267 - val_loss: 0.6817 - val_acc: 0.7000\n",
            "Epoch 228/2000\n",
            "450/450 [==============================] - 0s 125us/step - loss: 0.4000 - acc: 0.8444 - val_loss: 0.7072 - val_acc: 0.7000\n",
            "Epoch 229/2000\n",
            "450/450 [==============================] - 0s 116us/step - loss: 0.3980 - acc: 0.8444 - val_loss: 0.6905 - val_acc: 0.7000\n",
            "Epoch 230/2000\n",
            "450/450 [==============================] - 0s 114us/step - loss: 0.4012 - acc: 0.8400 - val_loss: 0.6781 - val_acc: 0.6800\n",
            "Epoch 231/2000\n",
            "450/450 [==============================] - 0s 164us/step - loss: 0.3973 - acc: 0.8489 - val_loss: 0.6907 - val_acc: 0.7000\n",
            "Epoch 232/2000\n",
            "450/450 [==============================] - 0s 119us/step - loss: 0.3983 - acc: 0.8400 - val_loss: 0.6974 - val_acc: 0.7000\n",
            "Epoch 233/2000\n",
            "450/450 [==============================] - 0s 122us/step - loss: 0.3976 - acc: 0.8378 - val_loss: 0.6874 - val_acc: 0.7000\n",
            "Epoch 234/2000\n",
            "450/450 [==============================] - 0s 135us/step - loss: 0.3959 - acc: 0.8489 - val_loss: 0.6934 - val_acc: 0.7000\n",
            "Epoch 235/2000\n",
            "450/450 [==============================] - 0s 130us/step - loss: 0.3940 - acc: 0.8489 - val_loss: 0.6819 - val_acc: 0.7200\n",
            "Epoch 236/2000\n",
            "450/450 [==============================] - 0s 124us/step - loss: 0.3944 - acc: 0.8444 - val_loss: 0.6812 - val_acc: 0.6800\n",
            "Epoch 237/2000\n",
            "450/450 [==============================] - 0s 131us/step - loss: 0.3932 - acc: 0.8444 - val_loss: 0.6848 - val_acc: 0.7000\n",
            "Epoch 238/2000\n",
            "450/450 [==============================] - 0s 144us/step - loss: 0.3904 - acc: 0.8533 - val_loss: 0.6877 - val_acc: 0.7000\n",
            "Epoch 239/2000\n",
            "450/450 [==============================] - 0s 140us/step - loss: 0.3897 - acc: 0.8489 - val_loss: 0.6868 - val_acc: 0.7000\n",
            "Epoch 240/2000\n",
            "450/450 [==============================] - 0s 128us/step - loss: 0.3921 - acc: 0.8400 - val_loss: 0.6932 - val_acc: 0.7000\n",
            "Epoch 241/2000\n",
            "450/450 [==============================] - 0s 128us/step - loss: 0.3899 - acc: 0.8444 - val_loss: 0.6958 - val_acc: 0.7000\n",
            "Epoch 242/2000\n",
            "450/450 [==============================] - 0s 142us/step - loss: 0.3907 - acc: 0.8422 - val_loss: 0.6850 - val_acc: 0.7000\n",
            "Epoch 243/2000\n",
            "450/450 [==============================] - 0s 121us/step - loss: 0.3872 - acc: 0.8489 - val_loss: 0.7045 - val_acc: 0.7000\n",
            "Epoch 244/2000\n",
            "450/450 [==============================] - 0s 124us/step - loss: 0.3902 - acc: 0.8511 - val_loss: 0.6868 - val_acc: 0.7000\n",
            "Epoch 245/2000\n",
            "450/450 [==============================] - 0s 120us/step - loss: 0.3871 - acc: 0.8578 - val_loss: 0.6933 - val_acc: 0.6800\n",
            "Epoch 246/2000\n",
            "450/450 [==============================] - 0s 137us/step - loss: 0.3843 - acc: 0.8556 - val_loss: 0.6911 - val_acc: 0.7200\n",
            "Epoch 247/2000\n",
            "450/450 [==============================] - 0s 147us/step - loss: 0.3883 - acc: 0.8422 - val_loss: 0.6956 - val_acc: 0.7000\n",
            "Epoch 248/2000\n",
            "450/450 [==============================] - 0s 123us/step - loss: 0.3830 - acc: 0.8556 - val_loss: 0.6858 - val_acc: 0.7400\n",
            "Epoch 249/2000\n",
            "450/450 [==============================] - 0s 124us/step - loss: 0.3843 - acc: 0.8489 - val_loss: 0.7033 - val_acc: 0.6800\n",
            "Epoch 250/2000\n",
            "450/450 [==============================] - 0s 131us/step - loss: 0.3806 - acc: 0.8511 - val_loss: 0.6904 - val_acc: 0.6800\n",
            "Epoch 251/2000\n",
            "450/450 [==============================] - 0s 118us/step - loss: 0.3823 - acc: 0.8489 - val_loss: 0.7020 - val_acc: 0.7000\n",
            "Epoch 252/2000\n",
            "450/450 [==============================] - 0s 115us/step - loss: 0.3799 - acc: 0.8556 - val_loss: 0.6915 - val_acc: 0.7000\n",
            "Epoch 253/2000\n",
            "450/450 [==============================] - 0s 119us/step - loss: 0.3816 - acc: 0.8533 - val_loss: 0.7006 - val_acc: 0.6800\n",
            "Epoch 254/2000\n",
            "450/450 [==============================] - 0s 119us/step - loss: 0.3811 - acc: 0.8467 - val_loss: 0.6915 - val_acc: 0.6800\n",
            "Epoch 255/2000\n",
            "450/450 [==============================] - 0s 127us/step - loss: 0.3770 - acc: 0.8489 - val_loss: 0.7036 - val_acc: 0.6800\n",
            "Epoch 256/2000\n",
            "450/450 [==============================] - 0s 119us/step - loss: 0.3769 - acc: 0.8511 - val_loss: 0.7006 - val_acc: 0.6800\n",
            "Epoch 257/2000\n",
            "450/450 [==============================] - 0s 132us/step - loss: 0.3770 - acc: 0.8533 - val_loss: 0.6893 - val_acc: 0.7200\n",
            "Epoch 258/2000\n",
            "450/450 [==============================] - 0s 129us/step - loss: 0.3764 - acc: 0.8489 - val_loss: 0.7112 - val_acc: 0.6800\n",
            "Epoch 259/2000\n",
            "450/450 [==============================] - 0s 133us/step - loss: 0.3769 - acc: 0.8467 - val_loss: 0.6989 - val_acc: 0.7000\n",
            "Epoch 260/2000\n",
            "450/450 [==============================] - 0s 144us/step - loss: 0.3749 - acc: 0.8533 - val_loss: 0.6992 - val_acc: 0.6800\n",
            "Epoch 261/2000\n",
            "450/450 [==============================] - 0s 133us/step - loss: 0.3761 - acc: 0.8489 - val_loss: 0.6936 - val_acc: 0.7000\n",
            "Epoch 262/2000\n",
            "450/450 [==============================] - 0s 145us/step - loss: 0.3735 - acc: 0.8578 - val_loss: 0.7106 - val_acc: 0.6800\n",
            "Epoch 263/2000\n",
            "450/450 [==============================] - 0s 143us/step - loss: 0.3725 - acc: 0.8467 - val_loss: 0.7021 - val_acc: 0.7000\n",
            "Epoch 264/2000\n",
            "450/450 [==============================] - 0s 138us/step - loss: 0.3683 - acc: 0.8511 - val_loss: 0.7073 - val_acc: 0.6800\n",
            "Epoch 265/2000\n",
            "450/450 [==============================] - 0s 128us/step - loss: 0.3713 - acc: 0.8533 - val_loss: 0.7102 - val_acc: 0.6800\n",
            "Epoch 266/2000\n",
            "450/450 [==============================] - 0s 150us/step - loss: 0.3689 - acc: 0.8556 - val_loss: 0.7006 - val_acc: 0.7000\n",
            "Epoch 267/2000\n",
            "450/450 [==============================] - 0s 131us/step - loss: 0.3685 - acc: 0.8444 - val_loss: 0.7017 - val_acc: 0.6800\n",
            "Epoch 268/2000\n",
            "450/450 [==============================] - 0s 124us/step - loss: 0.3731 - acc: 0.8533 - val_loss: 0.7100 - val_acc: 0.6800\n",
            "Epoch 269/2000\n",
            "450/450 [==============================] - 0s 129us/step - loss: 0.3714 - acc: 0.8600 - val_loss: 0.7153 - val_acc: 0.6800\n",
            "Epoch 270/2000\n",
            "450/450 [==============================] - 0s 119us/step - loss: 0.3685 - acc: 0.8489 - val_loss: 0.7023 - val_acc: 0.7200\n",
            "Epoch 271/2000\n",
            "450/450 [==============================] - 0s 118us/step - loss: 0.3692 - acc: 0.8444 - val_loss: 0.7245 - val_acc: 0.6600\n",
            "Epoch 272/2000\n",
            "450/450 [==============================] - 0s 135us/step - loss: 0.3642 - acc: 0.8533 - val_loss: 0.7071 - val_acc: 0.7000\n",
            "Epoch 273/2000\n",
            "450/450 [==============================] - 0s 118us/step - loss: 0.3680 - acc: 0.8422 - val_loss: 0.7151 - val_acc: 0.7000\n",
            "Epoch 274/2000\n",
            "450/450 [==============================] - 0s 138us/step - loss: 0.3623 - acc: 0.8511 - val_loss: 0.7086 - val_acc: 0.7200\n",
            "Epoch 275/2000\n",
            "450/450 [==============================] - 0s 118us/step - loss: 0.3623 - acc: 0.8489 - val_loss: 0.7099 - val_acc: 0.7000\n",
            "Epoch 276/2000\n",
            "450/450 [==============================] - 0s 113us/step - loss: 0.3611 - acc: 0.8533 - val_loss: 0.7114 - val_acc: 0.7000\n",
            "Epoch 277/2000\n",
            "450/450 [==============================] - 0s 116us/step - loss: 0.3612 - acc: 0.8556 - val_loss: 0.7259 - val_acc: 0.6800\n",
            "Epoch 278/2000\n",
            "450/450 [==============================] - 0s 124us/step - loss: 0.3640 - acc: 0.8533 - val_loss: 0.7141 - val_acc: 0.7200\n",
            "Epoch 00278: early stopping\n"
          ],
          "name": "stdout"
        }
      ]
    },
    {
      "cell_type": "code",
      "metadata": {
        "id": "xAoDo0J_NJ_J",
        "colab_type": "code",
        "colab": {
          "base_uri": "https://localhost:8080/",
          "height": 54
        },
        "outputId": "4acadd13-be47-4117-ef31-38a3bc278e1d"
      },
      "source": [
        "model.evaluate(test_x, test_y, batch_size=1, verbose=1)"
      ],
      "execution_count": 273,
      "outputs": [
        {
          "output_type": "stream",
          "text": [
            "50/50 [==============================] - 0s 3ms/step\n"
          ],
          "name": "stdout"
        },
        {
          "output_type": "execute_result",
          "data": {
            "text/plain": [
              "[0.714082019738853, 0.72]"
            ]
          },
          "metadata": {
            "tags": []
          },
          "execution_count": 273
        }
      ]
    },
    {
      "cell_type": "code",
      "metadata": {
        "id": "MNmhl-AnXPT6",
        "colab_type": "code",
        "colab": {
          "base_uri": "https://localhost:8080/",
          "height": 561
        },
        "outputId": "59c75914-1d54-4592-ed8e-813d93ea0bda"
      },
      "source": [
        "# Рисуем график ответов\n",
        "plt.plot(history1.history['acc'])\n",
        "plt.plot(history1.history['val_acc'],color = (1,0.2,0,1))\n",
        "# plt.title('Train accuracy / Valid accuracy')\n",
        "plt.ylabel('Train / Valid')\n",
        "plt.xlabel('Epoch')\n",
        "#plt.legend(['Train', 'Test'], loc='upper left')\n",
        "plt.show()\n",
        "\n",
        "# Рисуем график ошибок\n",
        "plt.plot(history1.history['loss'])\n",
        "plt.plot(history1.history['val_loss'], color = (1,0.2,0,1))\n",
        "plt.title('Train loss / Valid loss')\n",
        "plt.ylabel('Train / Valid')\n",
        "plt.xlabel('Epoch')\n",
        "#plt.legend(['Train', 'Test'], loc='upper left')\n",
        "plt.show()"
      ],
      "execution_count": 43,
      "outputs": [
        {
          "output_type": "display_data",
          "data": {
            "image/png": "[encoded data removed]",
            "text/plain": [
              "<Figure size 432x288 with 1 Axes>"
            ]
          },
          "metadata": {
            "tags": []
          }
        },
        {
          "output_type": "display_data",
          "data": {
            "image/png": "[encoded data removed]",
            "text/plain": [
              "<Figure size 432x288 with 1 Axes>"
            ]
          },
          "metadata": {
            "tags": []
          }
        }
      ]
    },
    {
      "cell_type": "code",
      "metadata": {
        "id": "hnCDgH7NhWni",
        "colab_type": "code",
        "colab": {}
      },
      "source": [
        "#model.save('drive/My Drive/model70.h5') "
      ],
      "execution_count": 0,
      "outputs": []
    },
    {
      "cell_type": "code",
      "metadata": {
        "id": "WGbDhmbQBb4S",
        "colab_type": "code",
        "colab": {
          "base_uri": "https://localhost:8080/",
          "height": 35
        },
        "outputId": "9696fa77-239b-4850-fddc-e1d7fd7b53dc"
      },
      "source": [
        "test_rec = get_records('drive/My Drive/test.csv')"
      ],
      "execution_count": 275,
      "outputs": [
        {
          "output_type": "stream",
          "text": [
            "100%|██████████| 299220/299220 [00:34<00:00, 8642.98it/s]\n"
          ],
          "name": "stderr"
        }
      ]
    },
    {
      "cell_type": "code",
      "metadata": {
        "id": "gtffketsE-Tt",
        "colab_type": "code",
        "colab": {}
      },
      "source": [
        "test_data = []\n",
        "ids = np.array(list(set([k for k in test_rec])))\n",
        "for us in ids:\n",
        "    test_data.append(prepare(test_rec[us])[0])\n",
        "    \n",
        "test_data = np.array(test_data)\n",
        "# test_data = test_data.reshape((len(ids), 14))"
      ],
      "execution_count": 0,
      "outputs": []
    },
    {
      "cell_type": "code",
      "metadata": {
        "id": "TSyQGH3uHoPw",
        "colab_type": "code",
        "colab": {
          "base_uri": "https://localhost:8080/",
          "height": 35
        },
        "outputId": "1755fa95-d18c-4f1e-ce0f-8b32517a82b2"
      },
      "source": [
        "len(ids)"
      ],
      "execution_count": 282,
      "outputs": [
        {
          "output_type": "execute_result",
          "data": {
            "text/plain": [
              "96656"
            ]
          },
          "metadata": {
            "tags": []
          },
          "execution_count": 282
        }
      ]
    },
    {
      "cell_type": "code",
      "metadata": {
        "id": "JrUn6Ag1IA0F",
        "colab_type": "code",
        "colab": {
          "base_uri": "https://localhost:8080/",
          "height": 35
        },
        "outputId": "f6f3d7e7-b5e0-4444-eb23-9c0b3fa93e78"
      },
      "source": [
        "test_data.shape\n"
      ],
      "execution_count": 283,
      "outputs": [
        {
          "output_type": "execute_result",
          "data": {
            "text/plain": [
              "(96656, 14)"
            ]
          },
          "metadata": {
            "tags": []
          },
          "execution_count": 283
        }
      ]
    },
    {
      "cell_type": "code",
      "metadata": {
        "id": "W0FBzi0jG-Pg",
        "colab_type": "code",
        "colab": {}
      },
      "source": [
        "res = model.predict(test_data)"
      ],
      "execution_count": 0,
      "outputs": []
    },
    {
      "cell_type": "code",
      "metadata": {
        "id": "CPrY4UQ_IKoR",
        "colab_type": "code",
        "colab": {
          "base_uri": "https://localhost:8080/",
          "height": 35
        },
        "outputId": "90d92057-87b0-4ca4-f4ff-80fc3f74b7de"
      },
      "source": [
        "res.shape"
      ],
      "execution_count": 285,
      "outputs": [
        {
          "output_type": "execute_result",
          "data": {
            "text/plain": [
              "(96656, 2)"
            ]
          },
          "metadata": {
            "tags": []
          },
          "execution_count": 285
        }
      ]
    },
    {
      "cell_type": "code",
      "metadata": {
        "id": "ziw09wWaITAg",
        "colab_type": "code",
        "colab": {}
      },
      "source": [
        "dic = {}\n",
        "for id_ in range(len(ids)):\n",
        "    dic[int(ids[id_])] = (int(1 - np.argmax(res[id_,:])), float(np.max(res[id_,:])))"
      ],
      "execution_count": 0,
      "outputs": []
    },
    {
      "cell_type": "code",
      "metadata": {
        "id": "x6R2kWmF8KEp",
        "colab_type": "code",
        "colab": {}
      },
      "source": [
        "import random\n",
        "import xlwt\n"
      ],
      "execution_count": 0,
      "outputs": []
    },
    {
      "cell_type": "code",
      "metadata": {
        "id": "TWsM-EJ28Hpm",
        "colab_type": "code",
        "colab": {}
      },
      "source": [
        "def write_to_excel(dictionary):\n",
        "    wb = xlwt.Workbook('hackaton2.xls')\n",
        "    number = 1\n",
        "    ws = wb.add_sheet('Result' + str(number))\n",
        "    ws.write(0, 0, \"SUBS_ID\")\n",
        "    ws.write(0, 1, \"MNP_OUT\")\n",
        "    ws.write(0, 2, \"Probability\")\n",
        "    row_count = 1\n",
        "    for key in dictionary.keys():\n",
        "        if row_count > 65535:\n",
        "            number += 1\n",
        "            ws = wb.add_sheet('Result' + str(number))\n",
        "            ws.write(0, 0, \"SUBS_ID\")\n",
        "            ws.write(0, 1, \"MNP_OUT\")\n",
        "            ws.write(0, 2, \"Probability\")\n",
        "            row_count = 1\n",
        "        key_cell = key\n",
        "        mnp_out_cell, probability_cell = dictionary[key]\n",
        "        ws.write(row_count, 0, key_cell)\n",
        "        ws.write(row_count, 1, mnp_out_cell)\n",
        "        ws.write(row_count, 2, probability_cell)\n",
        "        row_count += 1\n",
        "    wb.save('drive/My Drive/hackaton2.xls')"
      ],
      "execution_count": 0,
      "outputs": []
    },
    {
      "cell_type": "code",
      "metadata": {
        "id": "xYQmH1Gs8P02",
        "colab_type": "code",
        "colab": {}
      },
      "source": [
        "\n",
        "write_to_excel(dic)"
      ],
      "execution_count": 0,
      "outputs": []
    }
  ]
}